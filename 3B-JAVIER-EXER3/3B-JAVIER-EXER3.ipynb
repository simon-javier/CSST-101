{
  "nbformat": 4,
  "nbformat_minor": 0,
  "metadata": {
    "colab": {
      "provenance": []
    },
    "kernelspec": {
      "name": "python3",
      "display_name": "Python 3"
    },
    "language_info": {
      "name": "python"
    }
  },
  "cells": [
    {
      "cell_type": "markdown",
      "source": [
        "# `Notebook Information`\n",
        "- **Name:** Geron Simon A. Javier\n",
        "- **Y&S:** BSCS 3B IS\n",
        "- **Course:** CSST 101 | Advanced Representation and Reasoning\n",
        "- **Topic:** Module 2.0: Probabilistic Reasoning in AI\n",
        "- **Due date:** October 01, 2024 | 2:00 PM - 5:00 PM"
      ],
      "metadata": {
        "id": "jYCKzmAFv6cb"
      }
    },
    {
      "cell_type": "markdown",
      "source": [
        "# **1. Select a Disease for Diagnosis**\n",
        "\n",
        "> Choose a disease that your Al system will predict (e.g., diabetes, heart disease, or a viral infection).\n",
        "\n",
        "### **Question:** What disease did you choose, and what factors (symptoms, test results) contribute to diagnosing this disease?\n",
        "\n",
        "### **Answer:**\n",
        "\n",
        " > **Disease:** Diabetes\n",
        "\n",
        " > **Contributing Factors:**\n",
        " > - High blood glucose levels\n",
        " > - Increased thirst\n",
        " > - Frequent urination\n",
        " > - Unexplained weight loss\n",
        " > - Fatigue\n",
        " > - Blurred vision\n",
        " > - Family history of diabetes\n",
        " > - Elevated HbA1c levels (blood test for long-term glucose levels)\n",
        " > - High blood pressure\n",
        " > - Obesity\n",
        " > - Sedentary lifestyle"
      ],
      "metadata": {
        "id": "MYkO51DqCvQe"
      }
    },
    {
      "cell_type": "markdown",
      "source": [
        "# **2. Bayesian Inference Calculation**\n",
        "> Imagine that a patient has undergone a diagnostic test for the disease. Use the following information:\n",
        "\n",
        "- Prior probability (prevalence of the disease): $P(Diabetes) = 0.02$\n",
        "- Test sensitivity (probability of a positive result given disease): $P(Positive|Diabetes) = 0.95$\n",
        "- False positive rate (probability of a positive result given no Diabetes): $P(Positive|NoDiabetes) = 0.05$\n",
        "- Probability of a positive result in the population: $P(Positive) = 0.06$\n",
        "\n",
        "\n",
        "\n",
        "### **Task:** Calculate the **posterior probability** that the patient has the disease given that they tested positive.\n",
        "\n",
        "**Formula** (Bayes' Theorem):\n",
        "\n",
        "$$P(Diabetes|Positive) = \\frac{P(Positive|Diabetes) \\times P(Diabetes)}{P(Positive)}$$\n",
        "\n",
        "### **Answer:**\n",
        "\n",
        "1. **Substitute the values:**\n",
        "\n",
        "> $P(Diabetes|Positive) = \\frac{0.95 \\times 0.02}{0.06}$\n",
        "\n",
        "2. **Perform the Calculation:**\n",
        "\n",
        "> $P(Diabetes|Positive) = \\frac{0.019}{0.06} = 0.3166$\n",
        "---\n",
        "\n",
        "### **$Posterior Probability: 31.66\\%$**"
      ],
      "metadata": {
        "id": "bjx_meWUAIoA"
      }
    },
    {
      "cell_type": "markdown",
      "source": [
        "# **3. Simulate a Decision with Uncertain Outcomes**\n",
        "> Suppose a doctor must decide whether to treat a patient based on test results. Treatment has a 70% chance of success and provides a benefit of 100 points to the patient's health, but it also carries a 30% risk of failure, leading to a 50-point reduction.\n",
        "\n",
        "### **Task:** Calculate the expected health improvement for the patient based on these probabilities.\n",
        "\n",
        "**Formula:**\n",
        "\n",
        "$$\n",
        "Expected Health Improvement = P(Success) \\times Benefit + P(Failure) \\times Loss\n",
        "$$\n",
        "\n",
        "### **Answer:**\n",
        "\n",
        "1. **Substitute the values:**\n",
        "\n",
        "$Expected Health Improvement = P(Success) \\times Benefit + P(Failure) \\times Loss$\n",
        "\n",
        "> **Where:**\n",
        "> - $P(Success) = 0.70$\n",
        "> - $Benefit = 100$\n",
        "> - $P(Failure) = 0.30$\n",
        "> - $Loss = -50$\n",
        "\n",
        "> $Expected Health Improvement = (0.70 \\times 100) + (0.30 \\times (-50))$\n",
        "\n",
        "2. **Perform the Calculation:**\n",
        "\n",
        "> $Expected Health Improvement = (70) + (-15) = 70 - 15 = 55$\n",
        "\n",
        "---\n",
        "\n",
        "### **$Expected Improvement: 55 points$**"
      ],
      "metadata": {
        "id": "9-TIFIvOOdIC"
      }
    },
    {
      "cell_type": "markdown",
      "source": [
        "# **4. Visualize a Binomial Distribution**\n",
        "> Consider a scenario where you flip a coin 5 times, where each flip has a 50% chance of landing heads.\n",
        "\n",
        "### **Task:** Draw a probability distribution showing the chances of getting 0 to 5 heads."
      ],
      "metadata": {
        "id": "lEXuidFTrwlp"
      }
    },
    {
      "cell_type": "code",
      "source": [
        "import numpy as np\n",
        "import matplotlib.pyplot as plt\n",
        "from scipy.stats import binom\n",
        "\n",
        "n = 5   # Number of coin flips\n",
        "p = 0.5 # Probability of getting heads (50%)\n",
        "\n",
        "# Possible Outcomes: 0-5 heads\n",
        "x = np.arange(0, n+1)\n",
        "\n",
        "# Binomial probability mass function (PMF)\n",
        "pmf = binom.pmf(x, n, p)\n",
        "\n",
        "# Plotting\n",
        "plt.bar(x, pmf, color=\"blue\", alpha=0.7)\n",
        "plt.title(\"Binomial Distribution: 5 coin flips, P(Heads) = 0.5\")\n",
        "plt.xlabel(\"Number of heads\")\n",
        "plt.ylabel(\"Probability\")\n",
        "plt.xticks(x)\n",
        "plt.grid(True, axis=\"y\", linestyle=\"--\", alpha=0.7)\n",
        "plt.show()"
      ],
      "metadata": {
        "colab": {
          "base_uri": "https://localhost:8080/",
          "height": 472
        },
        "id": "blP0k9Xar8YN",
        "outputId": "5907306f-71e7-423b-a1d1-49b26df4ef0f"
      },
      "execution_count": 4,
      "outputs": [
        {
          "output_type": "display_data",
          "data": {
            "text/plain": [
              "<Figure size 640x480 with 1 Axes>"
            ],
            "image/png": "[encoded data removed]"
          },
          "metadata": {}
        }
      ]
    },
    {
      "cell_type": "markdown",
      "source": [
        "# **5. Reflection:**\n",
        "\n",
        "> In 3-4 sentences, explain how understanding probability theory helps in making decisions in medical diagnosis systems.\n",
        "\n",
        "### **Answer:**\n",
        "\n",
        "> Understanding probability theory is crucial in medical diagnosis systems because it allows for the quantification of uncertainty in patient data and test results. By applying concepts like Bayes' theorem, medical systems can update the likelihood of a disease based on new evidence, leading to more accurate diagnoses. Probability also helps in weighing the risks and benefits of different treatments or tests, ensuring that decisions are data-driven and minimize potential harm. This enhances the overall reliability and precision of medical decisions."
      ],
      "metadata": {
        "id": "PePtJsPiut5H"
      }
    }
  ]
}